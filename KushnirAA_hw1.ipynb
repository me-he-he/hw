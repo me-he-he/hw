{
  "cells": [
    {
      "cell_type": "markdown",
      "metadata": {},
      "source": [
        "Первые упражнения выполнялись в поиске в Notepad++.\n",
        "\n",
        "1.1. dr[iau]nk(s|ing)?\n",
        "br(i|ou)(ng|ght)(ing|s)?\n"
      ]
    },
    {
      "cell_type": "markdown",
      "metadata": {},
      "source": [
        "1.2. (Mac|Mc)[A-Z][a-z]+ (с учётом регистра)"
      ]
    },
    {
      "cell_type": "markdown",
      "metadata": {},
      "source": [
        "1.3. книжк(а|и|е|у|ой)"
      ]
    },
    {
      "cell_type": "markdown",
      "metadata": {},
      "source": [
        "1.4. городо?к(а|у|ом|е)?"
      ]
    },
    {
      "cell_type": "code",
      "execution_count": null,
      "metadata": {},
      "outputs": [],
      "source": [
        "# 1.5.\n",
        "import re\n",
        "with open(r\"c:\\Users\\йцукен\\Downloads\\flats.txt\", 'r', encoding='utf-8') as file:\n",
        "    flats = file.read()\n",
        "    k = 0\n",
        "    for i in flats.split('\\n'): \n",
        "        k += 1\n",
        "        result = re.search (r'(\\d{3}-\\d{2}-\\d{2})', i) \n",
        "        if k % 2 != 0:\n",
        "            print (result.group())\n",
        "        elif k % 2 == 0:\n",
        "            continue\n",
        "        if k>18:\n",
        "                break"
      ]
    },
    {
      "cell_type": "code",
      "execution_count": null,
      "metadata": {},
      "outputs": [],
      "source": [
        "# 2.1.\n",
        "import re\n",
        "with open(r\"c:\\Users\\йцукен\\Downloads\\flats.txt\", 'r', encoding='utf-8') as file:\n",
        "    flats = file.read()\n",
        "    k = 0\n",
        "    for i in flats.split('\\n'): \n",
        "        k += 1\n",
        "        result = re.search (r'(ул.[А-Я]?.?[А-Я][а-я]+,?\\s*(д.|дом)?,?\\s*\\d+/?\\d*)|([А-Я][а-я]+\\s*(пер.),?\\s*(д.)\\d*(\\/)?\\d*)|([А-Я][а-я]+,?\\s*(д.)\\d+)|([А-Я][а-я]+\\s*(пер.))', i) \n",
        "        if k % 2 != 0 and result != None:\n",
        "            print (result.group())\n",
        "        elif k % 2 == 0:\n",
        "            continue\n",
        "        else:\n",
        "            print (\"Информация об адресе не найдена\")\n",
        "        if k>18:\n",
        "                break\n",
        "\n",
        "                    \n",
        "\n"
      ]
    },
    {
      "cell_type": "markdown",
      "metadata": {},
      "source": [
        "2.2. Задание выполнялось в Notepad++. При этом были выделены первые 10 предложений, и поиск осуществлялся \"в выделенном\".\n",
        "Найти: ((ул.[А-Я]?.?[А-Я][а-я]+,?\\s*(д.|дом)?,?\\s*\\d+/?\\d*)|([А-Я][а-я]+\\s*(пер.),?\\s*(д.)\\d*(\\/)?\\d*)|([А-Я][а-я]+,?\\s*(д.)\\d+)|([А-Я][а-я]+\\s*(пер.)))\n",
        "Заменить: <addr>\\1</addr>"
      ]
    },
    {
      "cell_type": "code",
      "execution_count": null,
      "metadata": {},
      "outputs": [],
      "source": [
        "# 2.3.\n",
        "import re\n",
        "with open(r\"c:\\Users\\йцукен\\Downloads\\flats.txt\", 'r', encoding='utf-8') as file:\n",
        "    flats = file.read()\n",
        "    k = 0\n",
        "    for i in flats.split('\\n'): \n",
        "        k += 1\n",
        "        result = re.search (r'\\d*/?\\d+,?\\s*\\d+/\\d+(\\.|,)?\\d*\\s*кв.м.', i) \n",
        "        if k % 2 != 0:\n",
        "            print (result.group())\n",
        "        elif k % 2 == 0:\n",
        "            continue\n",
        "        if k>18:\n",
        "                break"
      ]
    },
    {
      "cell_type": "code",
      "execution_count": null,
      "metadata": {},
      "outputs": [],
      "source": [
        "# 2.4.\n",
        "import re\n",
        "with open(r\"c:\\Users\\йцукен\\Downloads\\flats.txt\", 'r', encoding='utf-8') as file:\n",
        "    flats = file.read()\n",
        "    k = 0\n",
        "    for i in flats.split('\\n'): \n",
        "        k += 1\n",
        "        seek = re.search (r'(ул.[А-Я]?.?[А-Я][а-я]+,?\\s*(д.|дом)?,?\\s*\\d+/?\\d*)|([А-Я][а-я]+\\s*(пер.),?\\s*(д.)\\d*(\\/)?\\d*)|([А-Я][а-я]+,?\\s*(д.)\\d+)|([А-Я][а-я]+\\s*(пер.))', i) \n",
        "        if k % 2 != 0 and seek != None:\n",
        "            adress = re.search (r'(ул.[А-Я]?.?[А-Я][а-я]+,?\\s*(д.|дом)?,?\\s*\\d+/?\\d*)|([А-Я][а-я]+\\s*(пер.),?\\s*(д.)\\d*(\\/)?\\d*)|([А-Я][а-я]+,?\\s*(д.)\\d+)|([А-Я][а-я]+\\s*(пер.))', i).group()\n",
        "            number = re.search (r'((text\\d+\\.))', i).group()\n",
        "            concat = number + adress\n",
        "            result = re.sub (r'(text\\d+\\.).*', concat, i) \n",
        "            print (result)\n",
        "        elif k % 2 == 0:\n",
        "            continue\n",
        "        else:\n",
        "            number = re.search (r'((text\\d+\\.))', i).group()\n",
        "            print (number, \"Информация об адресе не найдена\")\n",
        "        if k>18:\n",
        "                break"
      ]
    },
    {
      "cell_type": "markdown",
      "metadata": {},
      "source": [
        "3.1. Задание выполнялось в Notepad++. \n",
        "Найти: (По\\s+[а-я]+)|(,\\s+по\\s+[а-я]+) \n",
        "Заменить: <s>\\1</s>"
      ]
    },
    {
      "cell_type": "markdown",
      "metadata": {},
      "source": [
        "3.2. Задание выполнялось в Notepad++. Было найдено 72 совпадения.\n",
        "((По\\s+[а-я]+)|(,\\s+по\\s+[а-я]+))\\s+[а-я]+\\s*[а-я]*\\s*\"?[А-Я][а-я]+\\s*[А-Я]?[а-я]*\\s*-?[А-Я]?[а-я]*\\s*[а-я]*\\s*\\(?[А-Я]*([A-Z]+[A-Z]+\\)?\"?)?"
      ]
    }
  ],
  "metadata": {
    "colab": {
      "include_colab_link": true,
      "provenance": []
    },
    "kernelspec": {
      "display_name": "Python 3",
      "name": "python3"
    },
    "language_info": {
      "codemirror_mode": {
        "name": "ipython",
        "version": 3
      },
      "file_extension": ".py",
      "mimetype": "text/x-python",
      "name": "python",
      "nbconvert_exporter": "python",
      "pygments_lexer": "ipython3",
      "version": "3.11.9"
    }
  },
  "nbformat": 4,
  "nbformat_minor": 0
}
